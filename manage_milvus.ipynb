{
 "cells": [
  {
   "cell_type": "code",
   "execution_count": 5,
   "metadata": {},
   "outputs": [],
   "source": [
    "from pymilvus import utility, connections"
   ]
  },
  {
   "cell_type": "code",
   "execution_count": 6,
   "metadata": {},
   "outputs": [],
   "source": [
    "connections.connect(host= 'localhost', port='19530')"
   ]
  },
  {
   "cell_type": "code",
   "execution_count": 11,
   "metadata": {},
   "outputs": [
    {
     "data": {
      "text/plain": [
       "[]"
      ]
     },
     "execution_count": 11,
     "metadata": {},
     "output_type": "execute_result"
    }
   ],
   "source": [
    "utility.list_collections()"
   ]
  },
  {
   "cell_type": "code",
   "execution_count": 10,
   "metadata": {},
   "outputs": [],
   "source": [
    "for i in utility.list_collections():\n",
    "    utility.drop_collection(i)"
   ]
  },
  {
   "cell_type": "code",
   "execution_count": 1,
   "metadata": {},
   "outputs": [
    {
     "name": "stdout",
     "output_type": "stream",
     "text": [
      "[INST]You are a helpful, respectful assistant. You will be given a HR Policy on user queries HR POLICY DETAILS, and QUESTION from user. Answer the following question in Thai language according to the HR POLICY DETAIL.\n",
      "HR POLICY DETAILS: context\n",
      "QUESTION: question\n",
      "ANSWER:[/INST]\n"
     ]
    },
    {
     "data": {
      "text/plain": [
       "'[INST]You are a helpful, respectful assistant. You will be given a HR Policy on user queries HR POLICY DETAILS, and QUESTION from user. Answer the following question in Thai language according to the HR POLICY DETAIL.\\nHR POLICY DETAILS: context\\nQUESTION: question\\nANSWER:[/INST]'"
      ]
     },
     "execution_count": 1,
     "metadata": {},
     "output_type": "execute_result"
    }
   ],
   "source": [
    "from prompt_template import mixtral_prompt_template\n",
    "from __generate_answer.prompt import generate_prompt_en\n",
    "\n",
    "mixtral_prompt_template(generate_prompt_en('question', 'context'))"
   ]
  },
  {
   "cell_type": "code",
   "execution_count": 5,
   "metadata": {},
   "outputs": [
    {
     "name": "stdout",
     "output_type": "stream",
     "text": [
      "connecting to watsonxllm...\n"
     ]
    }
   ],
   "source": [
    "from utils.config import settings\n",
    "from connection import connect_watsonx_llm\n",
    "\n",
    "model_id_llm=       settings.faithfulness.llm_eval.name\n",
    "decoding_method=    settings.generate_answer.llm_generate.decoding_method\n",
    "min_new_tokens=     settings.generate_answer.llm_generate.min_new_tokens\n",
    "max_new_tokens=     settings.generate_answer.llm_generate.max_new_tokens\n",
    "repetition_penalty= settings.generate_answer.llm_generate.repetition_penalty\n",
    "\n",
    "model_llm  = connect_watsonx_llm(model_id_llm, \n",
    "                                 decoding_method, min_new_tokens, max_new_tokens, repetition_penalty)\n"
   ]
  },
  {
   "cell_type": "code",
   "execution_count": 6,
   "metadata": {},
   "outputs": [
    {
     "data": {
      "text/plain": [
       "'meta-llama/llama-3-70b-instruct'"
      ]
     },
     "execution_count": 6,
     "metadata": {},
     "output_type": "execute_result"
    }
   ],
   "source": [
    "model_llm.model_id"
   ]
  },
  {
   "cell_type": "code",
   "execution_count": 7,
   "metadata": {},
   "outputs": [
    {
     "name": "stdout",
     "output_type": "stream",
     "text": [
      "meta-llama/llama-3-70b-instruct\n"
     ]
    },
    {
     "data": {
      "text/plain": [
       "'คุณจะได้รับประโยคคำตอบ โปรดทำความเข้าใจคำตอบและแบ่งประโยคคำตอบออกเป็นหลายคำตอบย่อยที่เข้าใจได้ง่ายที่สุด โปรดอย่าใช้คำสรพพนามในคำตอบย่อยInput:คำตอบ: อัลเบิร์ต ไอน์สไตน์เป็นนักฟิสิกส์ทฤษฎีชาวเยอรมันมาแต่โดยกำเนิด ซึ่งเป็นที่ยอมรับกันอย่างกว้างขวางว่าเป็นหนึ่งในนักฟิสิกส์ที่ยิ่งใหญ่ที่สุดตลอดกาล เขาได้เป็นที่รู้จักกันในการพัฒนาทฤษฎีสัมพัทธภาพ แต่เขายังมีส่วนสำคัญในการพัฒนาทฤษฎีกลศาสตร์ควอนตัมOutputคำตอบย่อย: \\n0:อัลเบิร์ต ไอน์สไตน์เป็นนักฟิสิกส์ทฤษฎีชาวเยอรมันมาแต่โดยกำเนิด\\n1:อัลเบิร์ต ไอน์สไตน์เป็นที่ยอมรับกันอย่างกว้างขวางว่าเป็นหนึ่งในนักฟิสิกส์ที่ยิ่งใหญ่ที่สุดตลอดกาล\\n2:อัลเบิร์ต ไอน์สไตน์เป็นที่รู้จักกันในการพัฒนาทฤษฎีสัมพัทธภาพ\\n3:อัลเบิร์ต ไอน์สไตน์มีส่วนสำคัญในการพัฒนาทฤษฎีกลศาสตร์ควอนตัมInput:คำตอบ: answerOutputคำตอบย่อย: '"
      ]
     },
     "execution_count": 7,
     "metadata": {},
     "output_type": "execute_result"
    }
   ],
   "source": [
    "from __faithfulness.prompt import faithfulness_divide_answer_prompt_th\n",
    "from prompt_template import get_prompt_template\n",
    "message = faithfulness_divide_answer_prompt_th('answer')\n",
    "get_prompt_template(model_llm, message)\n"
   ]
  },
  {
   "cell_type": "markdown",
   "metadata": {},
   "source": [
    "'คุณจะได้รับประโยคคำตอบ โปรดทำความเข้าใจคำตอบและแบ่งประโยคคำตอบออกเป็นหลายคำตอบย่อยที่เข้าใจได้ง่ายที่สุด โปรดอย่าใช้คำสรพพนามในคำตอบย่อยInput:คำตอบ: อัลเบิร์ต ไอน์สไตน์เป็นนักฟิสิกส์ทฤษฎีชาวเยอรมันมาแต่โดยกำเนิด ซึ่งเป็นที่ยอมรับกันอย่างกว้างขวางว่าเป็นหนึ่งในนักฟิสิกส์ที่ยิ่งใหญ่ที่สุดตลอดกาล เขาได้เป็นที่รู้จักกันในการพัฒนาทฤษฎีสัมพัทธภาพ แต่เขายังมีส่วนสำคัญในการพัฒนาทฤษฎีกลศาสตร์ควอนตัมOutputคำตอบย่อย: \\n0:อัลเบิร์ต ไอน์สไตน์เป็นนักฟิสิกส์ทฤษฎีชาวเยอรมันมาแต่โดยกำเนิด\\n1:อัลเบิร์ต ไอน์สไตน์เป็นที่ยอมรับกันอย่างกว้างขวางว่าเป็นหนึ่งในนักฟิสิกส์ที่ยิ่งใหญ่ที่สุดตลอดกาล\\n2:อัลเบิร์ต ไอน์สไตน์เป็นที่รู้จักกันในการพัฒนาทฤษฎีสัมพัทธภาพ\\n3:อัลเบิร์ต ไอน์สไตน์มีส่วนสำคัญในการพัฒนาทฤษฎีกลศาสตร์ควอนตัมInput:คำตอบ: answerOutputคำตอบย่อย: '"
   ]
  },
  {
   "cell_type": "markdown",
   "metadata": {},
   "source": [
    "'<|begin_of_text|><|start_header_id|>system<|end_header_id|>คุณจะได้รับประโยคคำตอบ cโปรดทำความเข้าใจคำตอบและแบ่งประโยคคำตอบออกเป็นหลายคำตอบย่อยที่เข้าใจได้ง่ายที่สุด โปรดอย่าใช้คำสรพพนามในคำตอบย่อย<|eot_id|><|begin_of_text|><|start_header_id|>user<|end_header_id|>คำตอบ: อัลเบิร์ต ไอน์สไตน์เป็นนักฟิสิกส์ทฤษฎีชาวเยอรมันมาแต่โดยกำเนิด ซึ่งเป็นที่ยอมรับกันอย่างกว้างขวางว่าเป็นหนึ่งในนักฟิสิกส์ที่ยิ่งใหญ่ที่สุดตลอดกาล เขาได้เป็นที่รู้จักกันในการพัฒนาทฤษฎีสัมพัทธภาพ แต่เขายังมีส่วนสำคัญในการพัฒนาทฤษฎีกลศาสตร์ควอนตัม<|eot_id|><|begin_of_text|><|start_header_id|>assistant<|end_header_id|>คำตอบย่อย: \\n0:อัลเบิร์ต ไอน์สไตน์เป็นนักฟิสิกส์ทฤษฎีชาวเยอรมันมาแต่โดยกำเนิด\\n1:อัลเบิร์ต ไอน์สไตน์เป็นที่ยอมรับกันอย่างกว้างขวางว่าเป็นหนึ่งในนักฟิสิกส์ที่ยิ่งใหญ่ที่สุดตลอดกาล\\n2:อัลเบิร์ต ไอน์สไตน์เป็นที่รู้จักกันในการพัฒนาทฤษฎีสัมพัทธภาพ\\n3:อัลเบิร์ต ไอน์สไตน์มีส่วนสำคัญในการพัฒนาทฤษฎีกลศาสตร์ควอนตัม<|eot_id|><|begin_of_text|><|start_header_id|>user<|end_header_id|>คำตอบ: answer<|eot_id|><|begin_of_text|><|start_header_id|>assistant<|end_header_id|>คำตอบย่อย: <|eot_id|><|begin_of_text|><|start_header_id|>assistant<|end_header_id|>'"
   ]
  },
  {
   "cell_type": "code",
   "execution_count": 13,
   "metadata": {},
   "outputs": [],
   "source": [
    "prompt_input = \"\"\"คุณจะได้รับประโยคคำตอบ cโปรดทำความเข้าใจคำตอบและแบ่งประโยคคำตอบออกเป็นหลายคำตอบย่อยที่เข้าใจได้ง่ายที่สุด โปรดอย่าใช้คำสรพพนามในคำตอบย่อยInput: คำตอบ: อัลเบิร์ต ไอน์สไตน์เป็นนักฟิสิกส์ทฤษฎีชาวเยอรมันมาแต่โดยกำเนิด ซึ่งเป็นที่ยอมรับกันอย่างกว้างขวางว่าเป็นหนึ่งในนักฟิสิกส์ที่ยิ่งใหญ่ที่สุดตลอดกาล เขาได้เป็นที่รู้จักกันในการพัฒนาทฤษฎีสัมพัทธภาพ แต่เขายังมีส่วนสำคัญในการพัฒนาทฤษฎีกลศาสตร์ควอนตัมOutput:0:อัลเบิร์ต ไอน์สไตน์เป็นนักฟิสิกส์ทฤษฎีชาวเยอรมันมาแต่โดยกำเนิด\n",
    "1:อัลเบิร์ต ไอน์สไตน์เป็นที่ยอมรับกันอย่างกว้างขวางว่าเป็นหนึ่งในนักฟิสิกส์ที่ยิ่งใหญ่ที่สุดตลอดกาล\n",
    "2:อัลเบิร์ต ไอน์สไตน์เป็นที่รู้จักกันในการพัฒนาทฤษฎีสัมพัทธภาพ\n",
    "3:อัลเบิร์ต ไอน์สไตน์มีส่วนสำคัญในการพัฒนาทฤษฎีกลศาสตร์ควอนตัมInput:  ถ้าพนักงานลาป่วย 3 วัน และกลับมาปฏิบัติหน้าที่ในวันที่ 4, พนักงานต้องปรับปรุงการลาภายใน 2 วันหลังจากกลับมาปฏิบัติหน้าที่ ตาม HR POLICY นโยบายการลาของ HR บริษัท พนักงานมีความรับผิดชอบในการขอลาล่วงหน้า ในกรณีของการลาที่ไม่ได้วางแผน พนักงานต้องปรับปรุงการลาภายใน 2 วันหลังจากกลับมาปฏิบัติหน้าที่.Output:\"\"\""
   ]
  },
  {
   "cell_type": "code",
   "execution_count": 14,
   "metadata": {},
   "outputs": [
    {
     "name": "stdout",
     "output_type": "stream",
     "text": [
      "Submitting generation request...\n",
      "0:พนักงานลาป่วย 3 วัน และกลับมาปฏิบัติหน้าที่ในวันที่ 4\n",
      "1:พนักงานต้องปรับปรุงการลาภายใน 2 วันหลังจากกลับมาปฏิบัติหน้าที่ ตาม HR POLICY\n",
      "2:นโยบายการลาของ HR บริษัท พนักงานมีความรับผิดชอบในการขอลาล่วงหน้า\n",
      "3:ในกรณีของการลาที่ไม่ได้วางแผน พนักงานต้องปรับปรุงการลาภายใน 2 วันหลังจากกลับมาปฏิบัติหน้าที่\n"
     ]
    }
   ],
   "source": [
    "print(\"Submitting generation request...\")\n",
    "generated_response = model_llm.generate_text(prompt=prompt_input)\n",
    "print(generated_response)"
   ]
  },
  {
   "cell_type": "code",
   "execution_count": null,
   "metadata": {},
   "outputs": [],
   "source": []
  }
 ],
 "metadata": {
  "kernelspec": {
   "display_name": "Python 3",
   "language": "python",
   "name": "python3"
  },
  "language_info": {
   "codemirror_mode": {
    "name": "ipython",
    "version": 3
   },
   "file_extension": ".py",
   "mimetype": "text/x-python",
   "name": "python",
   "nbconvert_exporter": "python",
   "pygments_lexer": "ipython3",
   "version": "3.11.9"
  }
 },
 "nbformat": 4,
 "nbformat_minor": 2
}
